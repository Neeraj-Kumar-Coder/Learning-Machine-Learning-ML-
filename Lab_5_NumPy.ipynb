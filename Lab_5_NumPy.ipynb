{
 "cells": [
  {
   "attachments": {},
   "cell_type": "markdown",
   "metadata": {},
   "source": [
    "### Importing required libraries"
   ]
  },
  {
   "cell_type": "code",
   "execution_count": 8,
   "metadata": {},
   "outputs": [],
   "source": [
    "import numpy as np\n",
    "import time"
   ]
  },
  {
   "attachments": {},
   "cell_type": "markdown",
   "metadata": {},
   "source": [
    "### Vector creation"
   ]
  },
  {
   "cell_type": "code",
   "execution_count": 4,
   "metadata": {},
   "outputs": [
    {
     "name": "stdout",
     "output_type": "stream",
     "text": [
      "vector_1 = [0. 0. 0. 0. 0. 0. 0. 0. 0. 0.]\n",
      "shape = (10,)\n",
      "dtype = float64\n",
      "\n",
      "vector_2 = [0. 0. 0. 0. 0. 0. 0. 0. 0. 0.]\n",
      "shape = (10,)\n",
      "dtype = float64\n",
      "\n",
      "vector_3 = [0.34547607 0.21899654 0.11403684 0.82220095 0.83566726 0.40222933\n",
      " 0.27237928 0.45149926 0.66815485 0.9460052 ]\n",
      "shape = (10,)\n",
      "dtype = float64\n",
      "\n",
      "vector_4 = [0 1 2 3 4 5 6 7 8 9]\n",
      "shape = (10,)\n",
      "dtype = int32\n",
      "\n"
     ]
    }
   ],
   "source": [
    "vector_1 = np.zeros(10)\n",
    "vector_2 = np.zeros((10,))\n",
    "vector_3 = np.random.random(10)\n",
    "vector_4 = np.arange(10)\n",
    "\n",
    "print(\n",
    "    f\"vector_1 = {vector_1}\\nshape = {vector_1.shape}\\ndtype = {vector_1.dtype}\", end=\"\\n\\n\")\n",
    "print(\n",
    "    f\"vector_2 = {vector_2}\\nshape = {vector_2.shape}\\ndtype = {vector_2.dtype}\", end=\"\\n\\n\")\n",
    "print(\n",
    "    f\"vector_3 = {vector_3}\\nshape = {vector_3.shape}\\ndtype = {vector_3.dtype}\", end=\"\\n\\n\")\n",
    "print(\n",
    "    f\"vector_4 = {vector_4}\\nshape = {vector_4.shape}\\ndtype = {vector_4.dtype}\", end=\"\\n\\n\")\n"
   ]
  },
  {
   "attachments": {},
   "cell_type": "markdown",
   "metadata": {},
   "source": [
    "### Operations"
   ]
  },
  {
   "cell_type": "code",
   "execution_count": 5,
   "metadata": {},
   "outputs": [
    {
     "name": "stdout",
     "output_type": "stream",
     "text": [
      "Binary operators work element wise: [0 0 6 8]\n"
     ]
    }
   ],
   "source": [
    "a = np.array([ 1, 2, 3, 4])\n",
    "b = np.array([-1,-2, 3, 4])\n",
    "print(f\"Binary operators work element wise: {a + b}\")"
   ]
  },
  {
   "cell_type": "code",
   "execution_count": 7,
   "metadata": {},
   "outputs": [
    {
     "name": "stdout",
     "output_type": "stream",
     "text": [
      "b = 5 * a : [ 5 10 15 20]\n"
     ]
    }
   ],
   "source": [
    "a = np.array([1, 2, 3, 4])\n",
    "\n",
    "# multiply a by a scalar\n",
    "b = 5 * a \n",
    "print(f\"b = 5 * a : {b}\")"
   ]
  },
  {
   "attachments": {},
   "cell_type": "markdown",
   "metadata": {},
   "source": [
    "### Need for VECTORIZATION"
   ]
  },
  {
   "cell_type": "code",
   "execution_count": 9,
   "metadata": {},
   "outputs": [
    {
     "name": "stdout",
     "output_type": "stream",
     "text": [
      "np.dot(a, b) =  2501072.5817\n",
      "Vectorized version duration: 10.9143 ms \n",
      "my_dot(a, b) =  2501072.5817\n",
      "loop version duration: 3216.0544 ms \n"
     ]
    }
   ],
   "source": [
    "def my_dot(a, b):\n",
    "    \"\"\"\n",
    "   Compute the dot product of two vectors\n",
    "\n",
    "    Args:\n",
    "      a (ndarray (n,)):  input vector \n",
    "      b (ndarray (n,)):  input vector with same dimension as a\n",
    "\n",
    "    Returns:\n",
    "      x (scalar): \n",
    "    \"\"\"\n",
    "    x = 0\n",
    "    for i in range(a.shape[0]):\n",
    "        x = x + a[i] * b[i]\n",
    "    return x\n",
    "\n",
    "\n",
    "np.random.seed(1)\n",
    "a = np.random.rand(10000000)  # very large arrays\n",
    "b = np.random.rand(10000000)\n",
    "\n",
    "tic = time.time()  # capture start time\n",
    "c = np.dot(a, b)\n",
    "toc = time.time()  # capture end time\n",
    "\n",
    "print(f\"np.dot(a, b) =  {c:.4f}\")\n",
    "print(f\"Vectorized version duration: {1000*(toc-tic):.4f} ms \")\n",
    "\n",
    "tic = time.time()  # capture start time\n",
    "c = my_dot(a, b)\n",
    "toc = time.time()  # capture end time\n",
    "\n",
    "print(f\"my_dot(a, b) =  {c:.4f}\")\n",
    "print(f\"loop version duration: {1000*(toc-tic):.4f} ms \")\n",
    "\n",
    "del (a)\n",
    "del (b)  # remove these big arrays from memory\n"
   ]
  }
 ],
 "metadata": {
  "kernelspec": {
   "display_name": "Python 3",
   "language": "python",
   "name": "python3"
  },
  "language_info": {
   "codemirror_mode": {
    "name": "ipython",
    "version": 3
   },
   "file_extension": ".py",
   "mimetype": "text/x-python",
   "name": "python",
   "nbconvert_exporter": "python",
   "pygments_lexer": "ipython3",
   "version": "3.11.0"
  },
  "orig_nbformat": 4,
  "vscode": {
   "interpreter": {
    "hash": "e374745477d33cddd5ff64e2efd1b928c38e6846795649d424ae32325440f9ed"
   }
  }
 },
 "nbformat": 4,
 "nbformat_minor": 2
}
