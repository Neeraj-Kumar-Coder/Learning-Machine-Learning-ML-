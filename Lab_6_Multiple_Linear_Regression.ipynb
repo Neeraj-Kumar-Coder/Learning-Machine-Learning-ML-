{
 "cells": [
  {
   "cell_type": "code",
   "execution_count": 2,
   "metadata": {},
   "outputs": [],
   "source": [
    "import math\n",
    "import numpy as np\n",
    "from matplotlib import pyplot as plt\n"
   ]
  },
  {
   "attachments": {},
   "cell_type": "markdown",
   "metadata": {},
   "source": [
    "### Training Dataset\n",
    "| Size (sqft) | Number of Bedrooms  | Number of floors | Age of  Home | Price (1000s dollars)  |   \n",
    "| ----------------| ------------------- |----------------- |--------------|-------------- |  \n",
    "| 2104            | 5                   | 1                | 45           | 460           |  \n",
    "| 1416            | 3                   | 2                | 40           | 232           |  \n",
    "| 852             | 2                   | 1                | 35           | 178           |  "
   ]
  },
  {
   "cell_type": "code",
   "execution_count": 3,
   "metadata": {},
   "outputs": [
    {
     "name": "stdout",
     "output_type": "stream",
     "text": [
      "x_train.shape = (3, 4)\n",
      "y_train.shape = (3,)\n"
     ]
    }
   ],
   "source": [
    "x_train = np.array([[2104, 5, 1, 45], [1416, 3, 2, 40], [852, 2, 1, 35]])\n",
    "y_train = np.array([460, 232, 178])\n",
    "\n",
    "print(f\"x_train.shape = {x_train.shape}\")\n",
    "print(f\"y_train.shape = {y_train.shape}\")\n"
   ]
  },
  {
   "cell_type": "code",
   "execution_count": 4,
   "metadata": {},
   "outputs": [
    {
     "name": "stdout",
     "output_type": "stream",
     "text": [
      "Number of training examples = 3\n",
      "Number of features = 4\n"
     ]
    }
   ],
   "source": [
    "# number of training examples\n",
    "m = x_train.shape[0]\n",
    "\n",
    "# number of features\n",
    "n = x_train.shape[1]\n",
    "\n",
    "print(f\"Number of training examples = {m}\")\n",
    "print(f\"Number of features = {n}\")\n"
   ]
  },
  {
   "attachments": {},
   "cell_type": "markdown",
   "metadata": {},
   "source": [
    "### Utility Functions"
   ]
  },
  {
   "cell_type": "code",
   "execution_count": 5,
   "metadata": {},
   "outputs": [],
   "source": [
    "# Model\n",
    "def f_wb(x_train, w, b):\n",
    "    return np.dot(w, x_train) + b\n",
    "\n",
    "\n",
    "# Cost function\n",
    "def compute_cost(x_train, y_train, w, b):\n",
    "    total_cost = 0\n",
    "    for i in range(0, m):\n",
    "        error = f_wb(x_train[i], w, b) - y_train[i]\n",
    "        total_cost += error ** 2\n",
    "    total_cost /= 2 * m\n",
    "    return total_cost\n",
    "\n",
    "\n",
    "# Gradients\n",
    "def gradient(x_train, y_train, w, b):\n",
    "    dj_dw = np.zeros(n)\n",
    "    dj_db = 0\n",
    "\n",
    "    for i in range(0, m):\n",
    "        error = f_wb(x_train[i], w, b) - y_train[i]\n",
    "        for j in range(0, n):\n",
    "            dj_dw[j] += error * x_train[i][j]\n",
    "        dj_db += error\n",
    "\n",
    "    dj_dw /= m\n",
    "    dj_db /= m\n",
    "    return dj_dw, dj_db\n"
   ]
  },
  {
   "attachments": {},
   "cell_type": "markdown",
   "metadata": {},
   "source": [
    "### Gradient Descent for Multiple Linear Regression"
   ]
  },
  {
   "cell_type": "code",
   "execution_count": 10,
   "metadata": {},
   "outputs": [
    {
     "name": "stdout",
     "output_type": "stream",
     "text": [
      "\n",
      "Final w = [ 0.20396569  0.00374919 -0.0112487  -0.0658614 ]\n",
      "b = -0.002235407530932535\n",
      "cost = 686.7034116665205\n"
     ]
    },
    {
     "data": {
      "image/png": "[encoded data removed]",
      "text/plain": [
       "<Figure size 640x480 with 1 Axes>"
      ]
     },
     "metadata": {},
     "output_type": "display_data"
    }
   ],
   "source": [
    "b = 0\n",
    "w = np.zeros(n)\n",
    "iterations = 1000\n",
    "alpha = 5e-7\n",
    "\n",
    "plt.title(\"Cost Function\")\n",
    "plt.xlabel(\"Number of iterations\")\n",
    "plt.ylabel(\"Cost (J(w, b))\")\n",
    "for i in range(iterations):\n",
    "    dj_dw, dj_db = gradient(x_train, y_train, w, b)\n",
    "\n",
    "    w = w - alpha * dj_dw\n",
    "    b = b - alpha * dj_db\n",
    "\n",
    "    cost = compute_cost(x_train, y_train, w, b)\n",
    "    plt.scatter([i + 1], [cost], marker=\".\", c=\"b\")\n",
    "print(\n",
    "    f\"\\nFinal w = {w}\\nb = {b}\\ncost = {compute_cost(x_train, y_train, w, b)}\")\n",
    "plt.show()"
   ]
  }
 ],
 "metadata": {
  "kernelspec": {
   "display_name": "Python 3",
   "language": "python",
   "name": "python3"
  },
  "language_info": {
   "codemirror_mode": {
    "name": "ipython",
    "version": 3
   },
   "file_extension": ".py",
   "mimetype": "text/x-python",
   "name": "python",
   "nbconvert_exporter": "python",
   "pygments_lexer": "ipython3",
   "version": "3.11.0"
  },
  "orig_nbformat": 4,
  "vscode": {
   "interpreter": {
    "hash": "e374745477d33cddd5ff64e2efd1b928c38e6846795649d424ae32325440f9ed"
   }
  }
 },
 "nbformat": 4,
 "nbformat_minor": 2
}
